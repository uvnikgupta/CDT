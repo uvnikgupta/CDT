{
 "cells": [
  {
   "cell_type": "code",
   "execution_count": 11,
   "id": "22dcd543",
   "metadata": {},
   "outputs": [
    {
     "data": {
      "text/latex": [
       "$\\displaystyle \\begin{cases} \\frac{6 p_{1}^{x_{1}} p_{2}^{x_{2}} p_{3}^{x_{3}}}{x_{1}! x_{2}! x_{3}!} & \\text{for}\\: x_{1} + x_{2} + x_{3} = 3 \\\\0 & \\text{otherwise} \\end{cases}$"
      ],
      "text/plain": [
       "Piecewise((6*p1**x1*p2**x2*p3**x3/(factorial(x1)*factorial(x2)*factorial(x3)), Eq(x1 + x2 + x3, 3)), (0, True))"
      ]
     },
     "execution_count": 11,
     "metadata": {},
     "output_type": "execute_result"
    }
   ],
   "source": [
    "from sympy.stats import density, Multinomial, marginal_distribution\n",
    "from sympy import symbols\n",
    "x1, x2, x3 = symbols('x1, x2, x3', nonnegative=True, integer=True)\n",
    "p1, p2, p3 = symbols('p1, p2, p3', positive=True)\n",
    "M = Multinomial('M', 3, p1, p2, p3)\n",
    "density(M)(x1, x2, x3)"
   ]
  },
  {
   "cell_type": "code",
   "execution_count": 8,
   "id": "9564104a",
   "metadata": {},
   "outputs": [
    {
     "data": {
      "text/latex": [
       "$\\displaystyle 3 p_{1} p_{2}^{2} + 6 p_{1} p_{2} p_{3} + 3 p_{1} p_{3}^{2}$"
      ],
      "text/plain": [
       "3*p1*p2**2 + 6*p1*p2*p3 + 3*p1*p3**2"
      ]
     },
     "execution_count": 8,
     "metadata": {},
     "output_type": "execute_result"
    }
   ],
   "source": [
    "marginal_distribution(M, M[0])(x1).subs(x1, 1)"
   ]
  },
  {
   "cell_type": "code",
   "execution_count": 27,
   "id": "95ae9cff",
   "metadata": {},
   "outputs": [
    {
     "data": {
      "text/latex": [
       "$\\displaystyle 0.387420489$"
      ],
      "text/plain": [
       "0.387420489000000"
      ]
     },
     "execution_count": 27,
     "metadata": {},
     "output_type": "execute_result"
    }
   ],
   "source": [
    "N = Multinomial('N', 10, 0.1, 0.2, 0.7)\n",
    "marginal_distribution(N, N[0])(x1).subs(x1, 1)"
   ]
  },
  {
   "cell_type": "code",
   "execution_count": 28,
   "id": "f2825ffe",
   "metadata": {},
   "outputs": [],
   "source": [
    "from scmodels import SCM"
   ]
  },
  {
   "cell_type": "code",
   "execution_count": null,
   "id": "c2b17da2",
   "metadata": {},
   "outputs": [],
   "source": [
    "scm = SCM(\n",
    "    [\n",
    "        \"A1 = N, N ~ Multinomial(2, 0.5, 0.5)\"\n",
    "    ]\n",
    ")"
   ]
  }
 ],
 "metadata": {
  "kernelspec": {
   "display_name": "Python 3 (ipykernel)",
   "language": "python",
   "name": "python3"
  },
  "language_info": {
   "codemirror_mode": {
    "name": "ipython",
    "version": 3
   },
   "file_extension": ".py",
   "mimetype": "text/x-python",
   "name": "python",
   "nbconvert_exporter": "python",
   "pygments_lexer": "ipython3",
   "version": "3.10.10"
  }
 },
 "nbformat": 4,
 "nbformat_minor": 5
}
