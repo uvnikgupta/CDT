{
 "cells": [
  {
   "cell_type": "code",
   "execution_count": 1,
   "id": "afc95d4a",
   "metadata": {},
   "outputs": [],
   "source": [
    "from dynamic_scm import DynamicSCM"
   ]
  },
  {
   "cell_type": "code",
   "execution_count": 2,
   "id": "f712cf84",
   "metadata": {},
   "outputs": [
    {
     "ename": "TypeError",
     "evalue": "Cannot round symbolic expression",
     "output_type": "error",
     "traceback": [
      "\u001b[1;31m---------------------------------------------------------------------------\u001b[0m",
      "\u001b[1;31mTypeError\u001b[0m                                 Traceback (most recent call last)",
      "Cell \u001b[1;32mIn[2], line 6\u001b[0m\n\u001b[0;32m      1\u001b[0m input_nodes \u001b[38;5;241m=\u001b[39m [\u001b[38;5;241m2\u001b[39m,\u001b[38;5;241m2\u001b[39m,\u001b[38;5;241m2\u001b[39m,\u001b[38;5;241m2\u001b[39m,\u001b[38;5;241m2\u001b[39m,\u001b[38;5;241m1\u001b[39m]\n\u001b[0;32m      2\u001b[0m dSCM \u001b[38;5;241m=\u001b[39m DynamicSCM(min_parents\u001b[38;5;241m=\u001b[39m\u001b[38;5;241m2\u001b[39m, max_parents\u001b[38;5;241m=\u001b[39m\u001b[38;5;241m2\u001b[39m, \n\u001b[0;32m      3\u001b[0m                   parent_levels_probs\u001b[38;5;241m=\u001b[39m[\u001b[38;5;241m1\u001b[39m],\n\u001b[0;32m      4\u001b[0m                   distribution_type\u001b[38;5;241m=\u001b[39m\u001b[38;5;241m2\u001b[39m,\n\u001b[0;32m      5\u001b[0m                   simple_operations\u001b[38;5;241m=\u001b[39m{\u001b[38;5;124m\"\u001b[39m\u001b[38;5;124m+\u001b[39m\u001b[38;5;124m\"\u001b[39m:\u001b[38;5;241m1\u001b[39m})\n\u001b[1;32m----> 6\u001b[0m scm \u001b[38;5;241m=\u001b[39m \u001b[43mdSCM\u001b[49m\u001b[38;5;241;43m.\u001b[39;49m\u001b[43mcreate\u001b[49m\u001b[43m(\u001b[49m\u001b[43minput_nodes\u001b[49m\u001b[43m)\u001b[49m\n\u001b[0;32m      7\u001b[0m scm\u001b[38;5;241m.\u001b[39mplot(node_size\u001b[38;5;241m=\u001b[39m\u001b[38;5;241m250\u001b[39m);\n",
      "File \u001b[1;32mD:\\Projects\\CDT\\scm\\dynamic_scm.py:251\u001b[0m, in \u001b[0;36mDynamicSCM.create\u001b[1;34m(self, input_nodes)\u001b[0m\n\u001b[0;32m    249\u001b[0m     scm \u001b[38;5;241m=\u001b[39m \u001b[38;5;28mself\u001b[39m\u001b[38;5;241m.\u001b[39m__create_scm_from_num_nodes(input_nodes)\n\u001b[0;32m    250\u001b[0m \u001b[38;5;28;01melse\u001b[39;00m:\n\u001b[1;32m--> 251\u001b[0m     scm \u001b[38;5;241m=\u001b[39m \u001b[38;5;28;43mself\u001b[39;49m\u001b[38;5;241;43m.\u001b[39;49m\u001b[43m__create_scm_from_nodes_list\u001b[49m\u001b[43m(\u001b[49m\u001b[43minput_nodes\u001b[49m\u001b[43m)\u001b[49m\n\u001b[0;32m    252\u001b[0m \u001b[38;5;28;01mreturn\u001b[39;00m scm\n",
      "File \u001b[1;32mD:\\Projects\\CDT\\scm\\dynamic_scm.py:224\u001b[0m, in \u001b[0;36mDynamicSCM.__create_scm_from_nodes_list\u001b[1;34m(self, nodes_list)\u001b[0m\n\u001b[0;32m    220\u001b[0m level_names \u001b[38;5;241m=\u001b[39m \u001b[38;5;28mself\u001b[39m\u001b[38;5;241m.\u001b[39m__get_level_names(nodes_list)\n\u001b[0;32m    221\u001b[0m level_name_numnodes \u001b[38;5;241m=\u001b[39m \u001b[38;5;28mself\u001b[39m\u001b[38;5;241m.\u001b[39m__create_names_and_num_nodes_dict(\n\u001b[0;32m    222\u001b[0m     nodes_list, level_names)\n\u001b[1;32m--> 224\u001b[0m scm \u001b[38;5;241m=\u001b[39m \u001b[38;5;28;43mself\u001b[39;49m\u001b[38;5;241;43m.\u001b[39;49m\u001b[43m__create_scm\u001b[49m\u001b[43m(\u001b[49m\u001b[43mlevel_name_numnodes\u001b[49m\u001b[43m)\u001b[49m\n\u001b[0;32m    225\u001b[0m \u001b[38;5;28;01mreturn\u001b[39;00m scm\n",
      "File \u001b[1;32mD:\\Projects\\CDT\\scm\\dynamic_scm.py:203\u001b[0m, in \u001b[0;36mDynamicSCM.__create_scm\u001b[1;34m(self, level_name_numnodes)\u001b[0m\n\u001b[0;32m    200\u001b[0m     scm_dists\u001b[38;5;241m.\u001b[39mextend(levels_and_distributions[n][\u001b[38;5;241m0\u001b[39m])\n\u001b[0;32m    202\u001b[0m \u001b[38;5;28mself\u001b[39m\u001b[38;5;241m.\u001b[39m__data \u001b[38;5;241m=\u001b[39m levels_and_distributions\n\u001b[1;32m--> 203\u001b[0m scm \u001b[38;5;241m=\u001b[39m \u001b[43mSCM\u001b[49m\u001b[43m(\u001b[49m\u001b[43mscm_dists\u001b[49m\u001b[43m)\u001b[49m\n\u001b[0;32m    204\u001b[0m \u001b[38;5;28;01mreturn\u001b[39;00m scm\n",
      "File \u001b[1;32m~\\Software\\Anaconda\\envs\\cdt\\lib\\site-packages\\scmodels\\scm.py:218\u001b[0m, in \u001b[0;36mSCM.__init__\u001b[1;34m(self, assignments, variable_tex_names, seed, scm_name)\u001b[0m\n\u001b[0;32m    216\u001b[0m \u001b[38;5;28mself\u001b[39m\u001b[38;5;241m.\u001b[39mdag \u001b[38;5;241m=\u001b[39m nx\u001b[38;5;241m.\u001b[39mDiGraph()\n\u001b[0;32m    217\u001b[0m \u001b[38;5;28mself\u001b[39m\u001b[38;5;241m.\u001b[39mroots: List \u001b[38;5;241m=\u001b[39m []\n\u001b[1;32m--> 218\u001b[0m \u001b[38;5;28;43mself\u001b[39;49m\u001b[38;5;241;43m.\u001b[39;49m\u001b[43minsert\u001b[49m\u001b[43m(\u001b[49m\u001b[43massignments\u001b[49m\u001b[43m)\u001b[49m\n\u001b[0;32m    220\u001b[0m \u001b[38;5;66;03m# supply any variable name, that has not been assigned a different TeX name, with itself as TeX name.\u001b[39;00m\n\u001b[0;32m    221\u001b[0m \u001b[38;5;66;03m# This prevents missing labels in the plot method.\u001b[39;00m\n\u001b[0;32m    222\u001b[0m \u001b[38;5;28;01mif\u001b[39;00m variable_tex_names \u001b[38;5;129;01mis\u001b[39;00m \u001b[38;5;129;01mnot\u001b[39;00m \u001b[38;5;28;01mNone\u001b[39;00m:\n",
      "File \u001b[1;32m~\\Software\\Anaconda\\envs\\cdt\\lib\\site-packages\\scmodels\\scm.py:582\u001b[0m, in \u001b[0;36mSCM.insert\u001b[1;34m(self, assignments)\u001b[0m\n\u001b[0;32m    579\u001b[0m     assignment_str, noise_model \u001b[38;5;241m=\u001b[39m assignment_pack\n\u001b[0;32m    580\u001b[0m     parents \u001b[38;5;241m=\u001b[39m extract_parents(assignment_str, noise_model)\n\u001b[1;32m--> 582\u001b[0m     noise, assignment_func \u001b[38;5;241m=\u001b[39m \u001b[43msympify_assignment\u001b[49m\u001b[43m(\u001b[49m\n\u001b[0;32m    583\u001b[0m \u001b[43m        \u001b[49m\u001b[43mparents\u001b[49m\u001b[43m,\u001b[49m\u001b[43m \u001b[49m\u001b[43massignment_str\u001b[49m\u001b[43m,\u001b[49m\u001b[43m \u001b[49m\u001b[43mnoise_model\u001b[49m\n\u001b[0;32m    584\u001b[0m \u001b[43m    \u001b[49m\u001b[43m)\u001b[49m\n\u001b[0;32m    586\u001b[0m \u001b[38;5;66;03m# a sequence of size 3 is expected to be (parents list, assignment string, noise model)\u001b[39;00m\n\u001b[0;32m    587\u001b[0m \u001b[38;5;28;01melif\u001b[39;00m \u001b[38;5;28mlen\u001b[39m(assignment_pack) \u001b[38;5;241m==\u001b[39m \u001b[38;5;241m3\u001b[39m:\n",
      "File \u001b[1;32m~\\Software\\Anaconda\\envs\\cdt\\lib\\site-packages\\scmodels\\scm.py:888\u001b[0m, in \u001b[0;36msympify_assignment\u001b[1;34m(parents, assignment_str, noise_model)\u001b[0m\n\u001b[0;32m    886\u001b[0m     exec(\u001b[38;5;124mf\u001b[39m\u001b[38;5;124m\"\u001b[39m\u001b[38;5;132;01m{\u001b[39;00mpar\u001b[38;5;132;01m}\u001b[39;00m\u001b[38;5;124m = sympy.Symbol(\u001b[39m\u001b[38;5;124m'\u001b[39m\u001b[38;5;132;01m{\u001b[39;00mpar\u001b[38;5;132;01m}\u001b[39;00m\u001b[38;5;124m'\u001b[39m\u001b[38;5;124m)\u001b[39m\u001b[38;5;124m\"\u001b[39m)\n\u001b[0;32m    887\u001b[0m     symbols\u001b[38;5;241m.\u001b[39mappend(\u001b[38;5;28meval\u001b[39m(par))\n\u001b[1;32m--> 888\u001b[0m assignment \u001b[38;5;241m=\u001b[39m sympy\u001b[38;5;241m.\u001b[39msympify(\u001b[38;5;28;43meval\u001b[39;49m\u001b[43m(\u001b[49m\u001b[43massignment_str\u001b[49m\u001b[43m)\u001b[49m)\n\u001b[0;32m    889\u001b[0m \u001b[38;5;28;01mtry\u001b[39;00m:\n\u001b[0;32m    890\u001b[0m     assignment \u001b[38;5;241m=\u001b[39m sympy\u001b[38;5;241m.\u001b[39mlambdify(symbols, assignment, \u001b[38;5;124m\"\u001b[39m\u001b[38;5;124mnumpy\u001b[39m\u001b[38;5;124m\"\u001b[39m)\n",
      "File \u001b[1;32m<string>:1\u001b[0m\n",
      "File \u001b[1;32m~\\Software\\Anaconda\\envs\\cdt\\lib\\site-packages\\sympy\\core\\expr.py:3845\u001b[0m, in \u001b[0;36mExpr.round\u001b[1;34m(self, n)\u001b[0m\n\u001b[0;32m   3842\u001b[0m x \u001b[38;5;241m=\u001b[39m \u001b[38;5;28mself\u001b[39m\n\u001b[0;32m   3844\u001b[0m \u001b[38;5;28;01mif\u001b[39;00m \u001b[38;5;129;01mnot\u001b[39;00m x\u001b[38;5;241m.\u001b[39mis_number:\n\u001b[1;32m-> 3845\u001b[0m     \u001b[38;5;28;01mraise\u001b[39;00m \u001b[38;5;167;01mTypeError\u001b[39;00m(\u001b[38;5;124m\"\u001b[39m\u001b[38;5;124mCannot round symbolic expression\u001b[39m\u001b[38;5;124m\"\u001b[39m)\n\u001b[0;32m   3846\u001b[0m \u001b[38;5;28;01mif\u001b[39;00m \u001b[38;5;129;01mnot\u001b[39;00m x\u001b[38;5;241m.\u001b[39mis_Atom:\n\u001b[0;32m   3847\u001b[0m     \u001b[38;5;28;01mif\u001b[39;00m \u001b[38;5;129;01mnot\u001b[39;00m pure_complex(x\u001b[38;5;241m.\u001b[39mn(\u001b[38;5;241m2\u001b[39m), or_real\u001b[38;5;241m=\u001b[39m\u001b[38;5;28;01mTrue\u001b[39;00m):\n",
      "\u001b[1;31mTypeError\u001b[0m: Cannot round symbolic expression"
     ]
    }
   ],
   "source": [
    "input_nodes = [2,2,2,2,2,1]\n",
    "dSCM = DynamicSCM(min_parents=2, max_parents=2, \n",
    "                  parent_levels_probs=[1],\n",
    "                  distribution_type=2,\n",
    "                  simple_operations={\"+\":1})\n",
    "scm = dSCM.create(input_nodes)\n",
    "scm.plot(node_size=250);"
   ]
  },
  {
   "cell_type": "code",
   "execution_count": null,
   "id": "2b9a533b",
   "metadata": {},
   "outputs": [],
   "source": [
    "print(scm)"
   ]
  },
  {
   "cell_type": "code",
   "execution_count": null,
   "id": "7d1803df",
   "metadata": {},
   "outputs": [],
   "source": [
    "scm.sample(100)"
   ]
  },
  {
   "cell_type": "code",
   "execution_count": null,
   "id": "385ebd70",
   "metadata": {},
   "outputs": [],
   "source": [
    "input_nodes = [2,2,2,2,2,1]\n",
    "dSCM = DynamicSCM(min_parents=2, max_parents=2, parent_levels_probs=[0.4,0.1,0.5])\n",
    "scm = dSCM.create(input_nodes)\n",
    "scm.plot(node_size=250);"
   ]
  },
  {
   "cell_type": "code",
   "execution_count": null,
   "id": "956aa4d3",
   "metadata": {},
   "outputs": [],
   "source": [
    "scm.sample(100)"
   ]
  },
  {
   "cell_type": "code",
   "execution_count": null,
   "id": "b5320150",
   "metadata": {
    "scrolled": false
   },
   "outputs": [],
   "source": [
    "input_nodes = [25,16,9,6,4,2]\n",
    "dSCM = DynamicSCM(max_parents=8,simple_operations={\"+\":1})\n",
    "scm = dSCM.create(input_nodes)\n",
    "scm.plot(node_size=250);"
   ]
  },
  {
   "cell_type": "code",
   "execution_count": null,
   "id": "f9c95524",
   "metadata": {},
   "outputs": [],
   "source": [
    "scm.sample(100)"
   ]
  },
  {
   "cell_type": "code",
   "execution_count": null,
   "id": "e6544d29",
   "metadata": {},
   "outputs": [],
   "source": [
    "input_nodes = 30\n",
    "dSCM = DynamicSCM()\n",
    "scm = dSCM.create(input_nodes)\n",
    "scm.plot(node_size=250);"
   ]
  },
  {
   "cell_type": "code",
   "execution_count": null,
   "id": "69dfc71e",
   "metadata": {},
   "outputs": [],
   "source": [
    "scm.sample(100)"
   ]
  },
  {
   "cell_type": "code",
   "execution_count": null,
   "id": "b6ff9492",
   "metadata": {},
   "outputs": [],
   "source": [
    "input_nodes = [350, 50, 10, 3]\n",
    "dSCM = DynamicSCM(max_parents=20,\n",
    "                  complex_operations={})\n",
    "scm = dSCM.create(input_nodes)\n",
    "scm.plot();"
   ]
  },
  {
   "cell_type": "code",
   "execution_count": null,
   "id": "e54cbd99",
   "metadata": {},
   "outputs": [],
   "source": [
    "scm.sample(100)"
   ]
  },
  {
   "cell_type": "code",
   "execution_count": null,
   "id": "718c14d9",
   "metadata": {},
   "outputs": [],
   "source": [
    "input_nodes = [350, 2, 1]\n",
    "dSCM = DynamicSCM()\n",
    "scm = dSCM.create(input_nodes)\n",
    "scm.plot();"
   ]
  },
  {
   "cell_type": "code",
   "execution_count": null,
   "id": "520141a3",
   "metadata": {},
   "outputs": [],
   "source": [
    "scm.sample(100)"
   ]
  },
  {
   "cell_type": "code",
   "execution_count": null,
   "id": "c647b5e9",
   "metadata": {},
   "outputs": [],
   "source": [
    "input_nodes = 100\n",
    "dSCM = DynamicSCM(complex_operations={False:5, \"sqrt\":1, \"**2\":1})\n",
    "scm = dSCM.create(input_nodes)\n",
    "scm.plot(node_size=250);"
   ]
  },
  {
   "cell_type": "code",
   "execution_count": null,
   "id": "322a344e",
   "metadata": {},
   "outputs": [],
   "source": [
    "scm.sample(100)"
   ]
  },
  {
   "cell_type": "code",
   "execution_count": null,
   "id": "416f47b6",
   "metadata": {},
   "outputs": [],
   "source": [
    "print(scm)"
   ]
  },
  {
   "cell_type": "code",
   "execution_count": null,
   "id": "d514fdae",
   "metadata": {},
   "outputs": [],
   "source": [
    "scm.do_intervention([(\"B5\", 0)])\n",
    "scm.sample(10)"
   ]
  },
  {
   "cell_type": "code",
   "execution_count": null,
   "id": "6ae624c9",
   "metadata": {},
   "outputs": [],
   "source": [
    "scm.undo_intervention()"
   ]
  },
  {
   "cell_type": "markdown",
   "id": "df17ee42",
   "metadata": {},
   "source": [
    "## The code below is for debugging the SCM model when there is an issue with a distribution"
   ]
  },
  {
   "cell_type": "code",
   "execution_count": null,
   "id": "c35f1023",
   "metadata": {},
   "outputs": [],
   "source": [
    "# dSCM.get_data()"
   ]
  },
  {
   "cell_type": "code",
   "execution_count": null,
   "id": "9a5f847b",
   "metadata": {},
   "outputs": [],
   "source": [
    "# from scmodels import SCM\n",
    "# for level, dist_list in dSCM.get_data().items():\n",
    "#     for dist in dist_list[0]:\n",
    "#         if level == 0:\n",
    "#             scm_dists = [dist]\n",
    "#         else:\n",
    "#             print(dist)\n",
    "#             print()\n",
    "#             scm_dists = dSCM.get_data()[0][0]\n",
    "#             scm_dists.append(dist)\n",
    "#         print(scm_dists)\n",
    "#         scm = SCM(scm_dists)\n",
    "#         scm.sample(10)"
   ]
  },
  {
   "cell_type": "code",
   "execution_count": null,
   "id": "6e6b0cb7",
   "metadata": {},
   "outputs": [],
   "source": [
    "# from scmodels import SCM\n",
    "# import random\n",
    "\n",
    "# with open(\"distributions.txt\") as file:\n",
    "#     dists = file.readlines()\n",
    "\n",
    "# dists = [\n",
    "#     'f\"FiniteRV({{1: 0.33, 2: 0.34, 3: 0.33}})\"',\n",
    "#     'f\"Normal(mean={random.randint(0,10)}, std={round(random.uniform(1,20),2)})\"'\n",
    "# ]\n",
    "\n",
    "# scm_dist = f\"A1 = N, N ~ {eval(dists[0])}\"\n",
    "# scm = SCM([f\"{scm_dist}\"])\n",
    "# scm.sample(10)"
   ]
  }
 ],
 "metadata": {
  "kernelspec": {
   "display_name": "Python 3 (ipykernel)",
   "language": "python",
   "name": "python3"
  },
  "language_info": {
   "codemirror_mode": {
    "name": "ipython",
    "version": 3
   },
   "file_extension": ".py",
   "mimetype": "text/x-python",
   "name": "python",
   "nbconvert_exporter": "python",
   "pygments_lexer": "ipython3",
   "version": "3.10.11"
  }
 },
 "nbformat": 4,
 "nbformat_minor": 5
}
